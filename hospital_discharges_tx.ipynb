{
 "cells": [
  {
   "cell_type": "markdown",
   "metadata": {},
   "source": [
    "Hello, here I am doing some analysis and EDA on the 2021 Hospital Discharge Data public use data file. This is the most recent data on the website https://www.dshs.texas.gov/thcic/hospitals/Inpatientpudf.shtm\n",
    "In this notebook, I'm going to map out the various locations of hospitals. The unfortunate thing about 2021 data is that it only contains q1 2021 discharge data so my information is only up to early 2021."
   ]
  },
  {
   "cell_type": "code",
   "execution_count": 1,
   "metadata": {},
   "outputs": [],
   "source": [
    "import matplotlib.pyplot as plt\n",
    "import pandas as pd\n",
    "import numpy as np"
   ]
  },
  {
   "cell_type": "code",
   "execution_count": 2,
   "metadata": {},
   "outputs": [],
   "source": [
    "df = pd.read_excel('data/IP_Stat_2021.xlsx')"
   ]
  },
  {
   "cell_type": "code",
   "execution_count": 3,
   "metadata": {
    "scrolled": true
   },
   "outputs": [
    {
     "data": {
      "text/html": [
       "<div>\n",
       "<style scoped>\n",
       "    .dataframe tbody tr th:only-of-type {\n",
       "        vertical-align: middle;\n",
       "    }\n",
       "\n",
       "    .dataframe tbody tr th {\n",
       "        vertical-align: top;\n",
       "    }\n",
       "\n",
       "    .dataframe thead th {\n",
       "        text-align: right;\n",
       "    }\n",
       "</style>\n",
       "<table border=\"1\" class=\"dataframe\">\n",
       "  <thead>\n",
       "    <tr style=\"text-align: right;\">\n",
       "      <th></th>\n",
       "      <th>THCIC_ID</th>\n",
       "      <th>Hospital_name</th>\n",
       "      <th>Hospital_city</th>\n",
       "      <th>COUNTY</th>\n",
       "      <th>q1</th>\n",
       "      <th>end of list</th>\n",
       "    </tr>\n",
       "  </thead>\n",
       "  <tbody>\n",
       "    <tr>\n",
       "      <th>0</th>\n",
       "      <td>500000</td>\n",
       "      <td>Hendrick Medical Center</td>\n",
       "      <td>Abilene</td>\n",
       "      <td>441</td>\n",
       "      <td>4258</td>\n",
       "      <td>end of list</td>\n",
       "    </tr>\n",
       "    <tr>\n",
       "      <th>1</th>\n",
       "      <td>920000</td>\n",
       "      <td>Encompass Health Rehab Hospital Abilene</td>\n",
       "      <td>Abilene</td>\n",
       "      <td>441</td>\n",
       "      <td>310</td>\n",
       "      <td>end of list</td>\n",
       "    </tr>\n",
       "    <tr>\n",
       "      <th>2</th>\n",
       "      <td>973240</td>\n",
       "      <td>Oceans Behavioral Hospital Abilene</td>\n",
       "      <td>Abilene</td>\n",
       "      <td>441</td>\n",
       "      <td>518</td>\n",
       "      <td>end of list</td>\n",
       "    </tr>\n",
       "    <tr>\n",
       "      <th>3</th>\n",
       "      <td>973590</td>\n",
       "      <td>ContinueCare Hospital at Hendrick Medical Center</td>\n",
       "      <td>Abilene</td>\n",
       "      <td>441</td>\n",
       "      <td>69</td>\n",
       "      <td>end of list</td>\n",
       "    </tr>\n",
       "    <tr>\n",
       "      <th>4</th>\n",
       "      <td>975869</td>\n",
       "      <td>Hendrick Medical Center South</td>\n",
       "      <td>Abilene</td>\n",
       "      <td>441</td>\n",
       "      <td>1439</td>\n",
       "      <td>end of list</td>\n",
       "    </tr>\n",
       "  </tbody>\n",
       "</table>\n",
       "</div>"
      ],
      "text/plain": [
       "  THCIC_ID                                     Hospital_name Hospital_city  \\\n",
       "0   500000                           Hendrick Medical Center       Abilene   \n",
       "1   920000           Encompass Health Rehab Hospital Abilene       Abilene   \n",
       "2   973240                Oceans Behavioral Hospital Abilene       Abilene   \n",
       "3   973590  ContinueCare Hospital at Hendrick Medical Center       Abilene   \n",
       "4   975869                     Hendrick Medical Center South       Abilene   \n",
       "\n",
       "  COUNTY    q1  end of list   \n",
       "0    441  4258  end of list   \n",
       "1    441   310  end of list   \n",
       "2    441   518  end of list   \n",
       "3    441    69  end of list   \n",
       "4    441  1439  end of list   "
      ]
     },
     "execution_count": 3,
     "metadata": {},
     "output_type": "execute_result"
    }
   ],
   "source": [
    "df.head()"
   ]
  },
  {
   "cell_type": "code",
   "execution_count": 4,
   "metadata": {
    "scrolled": true
   },
   "outputs": [],
   "source": [
    "# df['COUNTY'].unique()"
   ]
  },
  {
   "cell_type": "code",
   "execution_count": 5,
   "metadata": {},
   "outputs": [
    {
     "data": {
      "text/plain": [
       "183"
      ]
     },
     "execution_count": 5,
     "metadata": {},
     "output_type": "execute_result"
    }
   ],
   "source": [
    "len(df['COUNTY'].unique())\n",
    "\n",
    "#so seemingly, there are 182 counties which just have a numerical code. Pretty unfortunate."
   ]
  },
  {
   "cell_type": "code",
   "execution_count": 6,
   "metadata": {},
   "outputs": [
    {
     "name": "stdout",
     "output_type": "stream",
     "text": [
      "<class 'pandas.core.frame.DataFrame'>\n",
      "RangeIndex: 699 entries, 0 to 698\n",
      "Data columns (total 6 columns):\n",
      " #   Column         Non-Null Count  Dtype \n",
      "---  ------         --------------  ----- \n",
      " 0   THCIC_ID       699 non-null    object\n",
      " 1   Hospital_name  699 non-null    object\n",
      " 2   Hospital_city  699 non-null    object\n",
      " 3   COUNTY         699 non-null    object\n",
      " 4   q1             699 non-null    object\n",
      " 5   end of list    699 non-null    object\n",
      "dtypes: object(6)\n",
      "memory usage: 32.9+ KB\n"
     ]
    }
   ],
   "source": [
    "df.info()"
   ]
  },
  {
   "cell_type": "code",
   "execution_count": 7,
   "metadata": {},
   "outputs": [
    {
     "data": {
      "text/plain": [
       "Memorial Hospital                          3\n",
       "Oakbend Medical Center                     2\n",
       "Wise Health System                         2\n",
       "Baylor Emergency Medical Center            2\n",
       "Texas NeuroRehab Center                    2\n",
       "                                          ..\n",
       "Warm Springs Rehab Hospital-San Antonio    1\n",
       "PAM Rehabilitation Hospital of Beaumont    1\n",
       "Kindred Hospital-Mansfield                 1\n",
       "Cogdell Memorial Hospital                  1\n",
       "LifeCare Hospital of Plano                 1\n",
       "Name: Hospital_name, Length: 692, dtype: int64"
      ]
     },
     "execution_count": 7,
     "metadata": {},
     "output_type": "execute_result"
    }
   ],
   "source": [
    "df['Hospital_name'].value_counts()"
   ]
  },
  {
   "cell_type": "code",
   "execution_count": 8,
   "metadata": {},
   "outputs": [
    {
     "data": {
      "text/html": [
       "<div>\n",
       "<style scoped>\n",
       "    .dataframe tbody tr th:only-of-type {\n",
       "        vertical-align: middle;\n",
       "    }\n",
       "\n",
       "    .dataframe tbody tr th {\n",
       "        vertical-align: top;\n",
       "    }\n",
       "\n",
       "    .dataframe thead th {\n",
       "        text-align: right;\n",
       "    }\n",
       "</style>\n",
       "<table border=\"1\" class=\"dataframe\">\n",
       "  <thead>\n",
       "    <tr style=\"text-align: right;\">\n",
       "      <th></th>\n",
       "      <th>THCIC_ID</th>\n",
       "      <th>Hospital_name</th>\n",
       "      <th>Hospital_city</th>\n",
       "      <th>COUNTY</th>\n",
       "      <th>q1</th>\n",
       "      <th>end of list</th>\n",
       "    </tr>\n",
       "  </thead>\n",
       "  <tbody>\n",
       "    <tr>\n",
       "      <th>201</th>\n",
       "      <td>199000</td>\n",
       "      <td>Memorial Hospital</td>\n",
       "      <td>Dumas</td>\n",
       "      <td>341</td>\n",
       "      <td>169</td>\n",
       "      <td>end of list</td>\n",
       "    </tr>\n",
       "    <tr>\n",
       "      <th>279</th>\n",
       "      <td>103000</td>\n",
       "      <td>Memorial Hospital</td>\n",
       "      <td>Gonzales</td>\n",
       "      <td>177</td>\n",
       "      <td>164</td>\n",
       "      <td>end of list</td>\n",
       "    </tr>\n",
       "    <tr>\n",
       "      <th>587</th>\n",
       "      <td>113000</td>\n",
       "      <td>Memorial Hospital</td>\n",
       "      <td>Seminole</td>\n",
       "      <td>165</td>\n",
       "      <td>300</td>\n",
       "      <td>end of list</td>\n",
       "    </tr>\n",
       "  </tbody>\n",
       "</table>\n",
       "</div>"
      ],
      "text/plain": [
       "    THCIC_ID      Hospital_name Hospital_city COUNTY   q1  end of list \n",
       "201   199000  Memorial Hospital         Dumas    341  169  end of list \n",
       "279   103000  Memorial Hospital      Gonzales    177  164  end of list \n",
       "587   113000  Memorial Hospital      Seminole    165  300  end of list "
      ]
     },
     "execution_count": 8,
     "metadata": {},
     "output_type": "execute_result"
    }
   ],
   "source": [
    "df[df['Hospital_name'] == 'Memorial Hospital']"
   ]
  },
  {
   "cell_type": "code",
   "execution_count": 9,
   "metadata": {},
   "outputs": [],
   "source": [
    "# 3 Different Memorial Hospitals in different counties"
   ]
  },
  {
   "cell_type": "code",
   "execution_count": 10,
   "metadata": {},
   "outputs": [
    {
     "data": {
      "text/plain": [
       "Houston        47\n",
       "San Antonio    40\n",
       "Dallas         30\n",
       "Austin         26\n",
       "Fort Worth     21\n",
       "               ..\n",
       "Canadian        1\n",
       "Brenham         1\n",
       "Friona          1\n",
       "Buda            1\n",
       "Killeen         1\n",
       "Name: Hospital_city, Length: 272, dtype: int64"
      ]
     },
     "execution_count": 10,
     "metadata": {},
     "output_type": "execute_result"
    }
   ],
   "source": [
    "df['Hospital_city'].value_counts()\n"
   ]
  },
  {
   "cell_type": "code",
   "execution_count": 11,
   "metadata": {},
   "outputs": [],
   "source": [
    "df.drop(698, inplace=True)"
   ]
  },
  {
   "cell_type": "code",
   "execution_count": 12,
   "metadata": {},
   "outputs": [],
   "source": [
    "q1_numeric = df['q1']  "
   ]
  },
  {
   "cell_type": "code",
   "execution_count": 13,
   "metadata": {},
   "outputs": [],
   "source": [
    "q1_numeric = pd.to_numeric(q1_numeric)"
   ]
  },
  {
   "cell_type": "code",
   "execution_count": 14,
   "metadata": {},
   "outputs": [
    {
     "name": "stdout",
     "output_type": "stream",
     "text": [
      "<class 'pandas.core.frame.DataFrame'>\n",
      "Int64Index: 698 entries, 0 to 697\n",
      "Data columns (total 6 columns):\n",
      " #   Column         Non-Null Count  Dtype \n",
      "---  ------         --------------  ----- \n",
      " 0   THCIC_ID       698 non-null    object\n",
      " 1   Hospital_name  698 non-null    object\n",
      " 2   Hospital_city  698 non-null    object\n",
      " 3   COUNTY         698 non-null    object\n",
      " 4   q1             698 non-null    object\n",
      " 5   end of list    698 non-null    object\n",
      "dtypes: object(6)\n",
      "memory usage: 38.2+ KB\n"
     ]
    }
   ],
   "source": [
    "df.info()"
   ]
  },
  {
   "cell_type": "code",
   "execution_count": 15,
   "metadata": {},
   "outputs": [
    {
     "data": {
      "text/plain": [
       "0      4258\n",
       "1       310\n",
       "2       518\n",
       "3        69\n",
       "4      1439\n",
       "       ... \n",
       "693      87\n",
       "694      70\n",
       "695      49\n",
       "696      75\n",
       "697     152\n",
       "Name: q1, Length: 698, dtype: int64"
      ]
     },
     "execution_count": 15,
     "metadata": {},
     "output_type": "execute_result"
    }
   ],
   "source": [
    "q1_numeric"
   ]
  },
  {
   "cell_type": "code",
   "execution_count": 16,
   "metadata": {},
   "outputs": [
    {
     "data": {
      "text/plain": [
       "count      698.000000\n",
       "mean      1051.356734\n",
       "std       1685.068734\n",
       "min          1.000000\n",
       "25%         88.250000\n",
       "50%        245.000000\n",
       "75%       1292.750000\n",
       "max      10891.000000\n",
       "Name: q1, dtype: float64"
      ]
     },
     "execution_count": 16,
     "metadata": {},
     "output_type": "execute_result"
    }
   ],
   "source": [
    "q1_numeric.describe()"
   ]
  },
  {
   "cell_type": "code",
   "execution_count": 17,
   "metadata": {},
   "outputs": [
    {
     "data": {
      "image/png": "[encoded data removed]",
      "text/plain": [
       "<Figure size 432x288 with 1 Axes>"
      ]
     },
     "metadata": {
      "needs_background": "light"
     },
     "output_type": "display_data"
    }
   ],
   "source": [
    "q1_numeric.plot()\n",
    "plt.xlabel('Hospital Index Number')\n",
    "plt.ylabel('Discharges in 2021');"
   ]
  },
  {
   "cell_type": "code",
   "execution_count": 18,
   "metadata": {},
   "outputs": [
    {
     "data": {
      "text/plain": [
       "count        698\n",
       "unique       698\n",
       "top       216001\n",
       "freq           1\n",
       "Name: THCIC_ID, dtype: object"
      ]
     },
     "execution_count": 18,
     "metadata": {},
     "output_type": "execute_result"
    }
   ],
   "source": [
    "df['THCIC_ID'].describe()"
   ]
  },
  {
   "cell_type": "markdown",
   "metadata": {},
   "source": [
    "There was a hospital which had 10.9k discharges. There were 698 hospitals listed by the Texas Department of State Health Services in 2021. The mean number of discharges was 1051. The median number of discharges was 245. There is a tail to the right of really big hospitals which dealt with many patients and discharges. For example, the hospital which had 10.9k discharges.  There was also 4 hospitals which had only 1 discharge. They were Trinity Hospital in Houston, Cochran Memorial Hospital in Morton, St. Michaels Elite Hospital in Sugar Land, and  CHRISTUS Mother Frances Hospital in Tyler. GIS mapping will help visualize this better."
   ]
  },
  {
   "cell_type": "code",
   "execution_count": 19,
   "metadata": {},
   "outputs": [
    {
     "data": {
      "text/plain": [
       "count      698.000000\n",
       "mean      1051.356734\n",
       "std       1685.068734\n",
       "min          1.000000\n",
       "25%         88.250000\n",
       "50%        245.000000\n",
       "75%       1292.750000\n",
       "max      10891.000000\n",
       "Name: q1, dtype: float64"
      ]
     },
     "execution_count": 19,
     "metadata": {},
     "output_type": "execute_result"
    }
   ],
   "source": [
    "q1_numeric.describe()"
   ]
  },
  {
   "cell_type": "code",
   "execution_count": 20,
   "metadata": {},
   "outputs": [
    {
     "data": {
      "text/plain": [
       "10891"
      ]
     },
     "execution_count": 20,
     "metadata": {},
     "output_type": "execute_result"
    }
   ],
   "source": [
    "q1_numeric.max()"
   ]
  },
  {
   "cell_type": "code",
   "execution_count": 21,
   "metadata": {},
   "outputs": [
    {
     "data": {
      "text/plain": [
       "342    True\n",
       "460    True\n",
       "615    True\n",
       "652    True\n",
       "Name: q1, dtype: bool"
      ]
     },
     "execution_count": 21,
     "metadata": {},
     "output_type": "execute_result"
    }
   ],
   "source": [
    "q1_numeric[q1_numeric==1]==True"
   ]
  },
  {
   "cell_type": "code",
   "execution_count": 22,
   "metadata": {},
   "outputs": [
    {
     "data": {
      "text/plain": [
       "THCIC_ID                   975247\n",
       "Hospital_name    Trinity Hospital\n",
       "Hospital_city             Houston\n",
       "COUNTY                        201\n",
       "q1                              1\n",
       "end of list          end of list \n",
       "Name: 342, dtype: object"
      ]
     },
     "execution_count": 22,
     "metadata": {},
     "output_type": "execute_result"
    }
   ],
   "source": [
    "df.iloc[342]"
   ]
  },
  {
   "cell_type": "code",
   "execution_count": 23,
   "metadata": {
    "scrolled": true
   },
   "outputs": [
    {
     "data": {
      "text/plain": [
       "THCIC_ID                            159000\n",
       "Hospital_name    Cochran Memorial Hospital\n",
       "Hospital_city                       Morton\n",
       "COUNTY                                 079\n",
       "q1                                       1\n",
       "end of list                   end of list \n",
       "Name: 460, dtype: object"
      ]
     },
     "execution_count": 23,
     "metadata": {},
     "output_type": "execute_result"
    }
   ],
   "source": [
    "df.iloc[460]"
   ]
  },
  {
   "cell_type": "code",
   "execution_count": 24,
   "metadata": {},
   "outputs": [
    {
     "data": {
      "text/plain": [
       "THCIC_ID                             975411\n",
       "Hospital_name    St Michaels Elite Hospital\n",
       "Hospital_city                    Sugar Land\n",
       "COUNTY                                  157\n",
       "q1                                        1\n",
       "end of list                    end of list \n",
       "Name: 615, dtype: object"
      ]
     },
     "execution_count": 24,
     "metadata": {},
     "output_type": "execute_result"
    }
   ],
   "source": [
    "df.iloc[615]"
   ]
  },
  {
   "cell_type": "code",
   "execution_count": 25,
   "metadata": {},
   "outputs": [
    {
     "data": {
      "text/plain": [
       "THCIC_ID                                               975202\n",
       "Hospital_name    CHRISTUS Mother Frances Hospital-South Tyler\n",
       "Hospital_city                                           Tyler\n",
       "COUNTY                                                    423\n",
       "q1                                                          1\n",
       "end of list                                      end of list \n",
       "Name: 652, dtype: object"
      ]
     },
     "execution_count": 25,
     "metadata": {},
     "output_type": "execute_result"
    }
   ],
   "source": [
    "df.iloc[652]"
   ]
  },
  {
   "cell_type": "code",
   "execution_count": null,
   "metadata": {},
   "outputs": [],
   "source": []
  },
  {
   "cell_type": "markdown",
   "metadata": {},
   "source": [
    "Here, I am now beginning to work on 2005 hospital data. This dataset loaded with discharges per quarter, so I'm just going to aggregate them into an annual discharge number. The good thing about this year's data is that the county is labeled rather than given a numerical code."
   ]
  },
  {
   "cell_type": "code",
   "execution_count": 26,
   "metadata": {},
   "outputs": [],
   "source": [
    "df_05 = pd.read_excel('data/HospitalStatistics2005.xls')"
   ]
  },
  {
   "cell_type": "code",
   "execution_count": 27,
   "metadata": {},
   "outputs": [
    {
     "data": {
      "text/html": [
       "<div>\n",
       "<style scoped>\n",
       "    .dataframe tbody tr th:only-of-type {\n",
       "        vertical-align: middle;\n",
       "    }\n",
       "\n",
       "    .dataframe tbody tr th {\n",
       "        vertical-align: top;\n",
       "    }\n",
       "\n",
       "    .dataframe thead th {\n",
       "        text-align: right;\n",
       "    }\n",
       "</style>\n",
       "<table border=\"1\" class=\"dataframe\">\n",
       "  <thead>\n",
       "    <tr style=\"text-align: right;\">\n",
       "      <th></th>\n",
       "      <th>THCIC_ID</th>\n",
       "      <th>Hospital name</th>\n",
       "      <th>Hospital city</th>\n",
       "      <th>Hospital county</th>\n",
       "      <th>1q05 Inpatient Discharges</th>\n",
       "      <th>2q05 Inpatient Discharges</th>\n",
       "      <th>3q05 Inpatient Discharges</th>\n",
       "      <th>4q05 Inpatient Discharges</th>\n",
       "    </tr>\n",
       "  </thead>\n",
       "  <tbody>\n",
       "    <tr>\n",
       "      <th>0</th>\n",
       "      <td>91001</td>\n",
       "      <td>Abilene Regional Medical Center</td>\n",
       "      <td>Abilene</td>\n",
       "      <td>Taylor</td>\n",
       "      <td>2358.0</td>\n",
       "      <td>2309.0</td>\n",
       "      <td>2209.0</td>\n",
       "      <td>2188.0</td>\n",
       "    </tr>\n",
       "    <tr>\n",
       "      <th>1</th>\n",
       "      <td>500000</td>\n",
       "      <td>Hendrick Medical Center</td>\n",
       "      <td>Abilene</td>\n",
       "      <td>Taylor</td>\n",
       "      <td>4707.0</td>\n",
       "      <td>4369.0</td>\n",
       "      <td>4447.0</td>\n",
       "      <td>4314.0</td>\n",
       "    </tr>\n",
       "    <tr>\n",
       "      <th>2</th>\n",
       "      <td>688000</td>\n",
       "      <td>Hendrick Center- Extended Care</td>\n",
       "      <td>Abilene</td>\n",
       "      <td>Taylor</td>\n",
       "      <td>67.0</td>\n",
       "      <td>51.0</td>\n",
       "      <td>50.0</td>\n",
       "      <td>57.0</td>\n",
       "    </tr>\n",
       "    <tr>\n",
       "      <th>3</th>\n",
       "      <td>782700</td>\n",
       "      <td>Abilene Psychiatric Center</td>\n",
       "      <td>Abilene</td>\n",
       "      <td>Taylor</td>\n",
       "      <td>153.0</td>\n",
       "      <td>169.0</td>\n",
       "      <td>203.0</td>\n",
       "      <td>199.0</td>\n",
       "    </tr>\n",
       "    <tr>\n",
       "      <th>4</th>\n",
       "      <td>818500</td>\n",
       "      <td>West Texas Hospital</td>\n",
       "      <td>Abilene</td>\n",
       "      <td>Taylor</td>\n",
       "      <td>NaN</td>\n",
       "      <td>NaN</td>\n",
       "      <td>45.0</td>\n",
       "      <td>82.0</td>\n",
       "    </tr>\n",
       "  </tbody>\n",
       "</table>\n",
       "</div>"
      ],
      "text/plain": [
       "   THCIC_ID                    Hospital name Hospital city Hospital county  \\\n",
       "0     91001  Abilene Regional Medical Center       Abilene          Taylor   \n",
       "1    500000          Hendrick Medical Center       Abilene          Taylor   \n",
       "2    688000   Hendrick Center- Extended Care       Abilene          Taylor   \n",
       "3    782700       Abilene Psychiatric Center       Abilene          Taylor   \n",
       "4    818500              West Texas Hospital       Abilene          Taylor   \n",
       "\n",
       "   1q05 Inpatient Discharges  2q05 Inpatient Discharges  \\\n",
       "0                     2358.0                     2309.0   \n",
       "1                     4707.0                     4369.0   \n",
       "2                       67.0                       51.0   \n",
       "3                      153.0                      169.0   \n",
       "4                        NaN                        NaN   \n",
       "\n",
       "   3q05 Inpatient Discharges  4q05 Inpatient Discharges  \n",
       "0                     2209.0                     2188.0  \n",
       "1                     4447.0                     4314.0  \n",
       "2                       50.0                       57.0  \n",
       "3                      203.0                      199.0  \n",
       "4                       45.0                       82.0  "
      ]
     },
     "execution_count": 27,
     "metadata": {},
     "output_type": "execute_result"
    }
   ],
   "source": [
    "df_05.head()"
   ]
  },
  {
   "cell_type": "code",
   "execution_count": 28,
   "metadata": {},
   "outputs": [],
   "source": [
    "df_05['Total Discharges'] = df_05['1q05 Inpatient Discharges'] + df_05['2q05 Inpatient Discharges'] + \\\n",
    "df_05['3q05 Inpatient Discharges'] + df_05['4q05 Inpatient Discharges']"
   ]
  },
  {
   "cell_type": "code",
   "execution_count": 29,
   "metadata": {},
   "outputs": [
    {
     "data": {
      "text/plain": [
       "64"
      ]
     },
     "execution_count": 29,
     "metadata": {},
     "output_type": "execute_result"
    }
   ],
   "source": [
    "df_05['Total Discharges'].isna().sum()"
   ]
  },
  {
   "cell_type": "markdown",
   "metadata": {},
   "source": [
    "So it turns out there are 64 hospitals which has NaN values for 2005 data. There were 516 unique THCIC ID's meaning that complete annual discharge data is available for 452 hospitals. Over the years, new ones were definitely built. THCIC stands for Texas Health Care Information Collection (THCIC)."
   ]
  },
  {
   "cell_type": "code",
   "execution_count": 30,
   "metadata": {},
   "outputs": [
    {
     "data": {
      "text/plain": [
       "505"
      ]
     },
     "execution_count": 30,
     "metadata": {},
     "output_type": "execute_result"
    }
   ],
   "source": [
    "len(df_05['Hospital name'].unique())\n",
    "\n",
    "# Hard to trust this line because of duplicate naming of hospitals that are located in different cities."
   ]
  },
  {
   "cell_type": "code",
   "execution_count": 31,
   "metadata": {},
   "outputs": [
    {
     "data": {
      "text/plain": [
       "516"
      ]
     },
     "execution_count": 31,
     "metadata": {},
     "output_type": "execute_result"
    }
   ],
   "source": [
    "len(df_05['THCIC_ID'].unique())"
   ]
  },
  {
   "cell_type": "code",
   "execution_count": 32,
   "metadata": {},
   "outputs": [
    {
     "data": {
      "text/plain": [
       "191"
      ]
     },
     "execution_count": 32,
     "metadata": {},
     "output_type": "execute_result"
    }
   ],
   "source": [
    "len(df_05['Hospital city'].unique())\n",
    "\n",
    "# so there is data for hospitals in 191 cities."
   ]
  },
  {
   "cell_type": "code",
   "execution_count": 33,
   "metadata": {},
   "outputs": [
    {
     "data": {
      "text/plain": [
       "126"
      ]
     },
     "execution_count": 33,
     "metadata": {},
     "output_type": "execute_result"
    }
   ],
   "source": [
    "len(df_05['Hospital county'].unique())\n",
    "\n",
    "# those 191 cities reside in 126 counties."
   ]
  },
  {
   "cell_type": "code",
   "execution_count": 34,
   "metadata": {},
   "outputs": [
    {
     "data": {
      "text/plain": [
       "THCIC_ID                      0\n",
       "Hospital name                 0\n",
       "Hospital city                 0\n",
       "Hospital county               0\n",
       "1q05 Inpatient Discharges    50\n",
       "2q05 Inpatient Discharges    35\n",
       "3q05 Inpatient Discharges    20\n",
       "4q05 Inpatient Discharges    15\n",
       "Total Discharges             64\n",
       "dtype: int64"
      ]
     },
     "execution_count": 34,
     "metadata": {},
     "output_type": "execute_result"
    }
   ],
   "source": [
    "df_05.isna().sum()\n",
    "\n",
    "# 64 hospitals are missing data from >=1 quarter, with as many as 50 hospitals missing data from q1 of 2005."
   ]
  },
  {
   "cell_type": "markdown",
   "metadata": {},
   "source": [
    "I will now begin taking a look at 2006 hospital data. This will continue all the way up to 2020 and I will perform EDA, data cleaning, and data engineering. If possible, I will then combine these 15 years into a time series and perform further analysis."
   ]
  },
  {
   "cell_type": "code",
   "execution_count": 35,
   "metadata": {},
   "outputs": [],
   "source": [
    "df_06 = pd.read_excel('data/HospitalStatistics2006.xls')"
   ]
  },
  {
   "cell_type": "code",
   "execution_count": 36,
   "metadata": {},
   "outputs": [
    {
     "name": "stdout",
     "output_type": "stream",
     "text": [
      "<class 'pandas.core.frame.DataFrame'>\n",
      "RangeIndex: 539 entries, 0 to 538\n",
      "Data columns (total 8 columns):\n",
      " #   Column                     Non-Null Count  Dtype  \n",
      "---  ------                     --------------  -----  \n",
      " 0   THCIC_ID                   539 non-null    int64  \n",
      " 1   Hospital name              539 non-null    object \n",
      " 2   Hospital city              539 non-null    object \n",
      " 3   Hospital county            539 non-null    object \n",
      " 4   1q06 Inpatient Discharges  514 non-null    float64\n",
      " 5   2q06 Inpatient Discharges  521 non-null    float64\n",
      " 6   3q06 Inpatient Discharges  521 non-null    float64\n",
      " 7   4q06 Inpatient Discharges  523 non-null    float64\n",
      "dtypes: float64(4), int64(1), object(3)\n",
      "memory usage: 33.8+ KB\n"
     ]
    }
   ],
   "source": [
    "df_06.info()"
   ]
  },
  {
   "cell_type": "code",
   "execution_count": 37,
   "metadata": {},
   "outputs": [],
   "source": [
    "# first thing to note is that there are now 23 more THCIC ID's, meaning data on 23 more hospitals. "
   ]
  },
  {
   "cell_type": "code",
   "execution_count": 38,
   "metadata": {},
   "outputs": [],
   "source": [
    "df_06['Total Discharges'] = df_06['1q06 Inpatient Discharges'] + df_06['2q06 Inpatient Discharges'] + \\\n",
    "df_06['3q06 Inpatient Discharges'] + df_06['4q06 Inpatient Discharges']"
   ]
  },
  {
   "cell_type": "code",
   "execution_count": 39,
   "metadata": {},
   "outputs": [
    {
     "data": {
      "text/plain": [
       "THCIC_ID                      0\n",
       "Hospital name                 0\n",
       "Hospital city                 0\n",
       "Hospital county               0\n",
       "1q06 Inpatient Discharges    25\n",
       "2q06 Inpatient Discharges    18\n",
       "3q06 Inpatient Discharges    18\n",
       "4q06 Inpatient Discharges    16\n",
       "Total Discharges             43\n",
       "dtype: int64"
      ]
     },
     "execution_count": 39,
     "metadata": {},
     "output_type": "execute_result"
    }
   ],
   "source": [
    "df_06.isna().sum()\n",
    "# in this year, there are 43 hospitals which don't have complete data. Since I will aggregate by year later for the time series\n",
    "# it won't matter too much that some hospitals are missing data for each year, or that new hospitals being built take away\n",
    "# some patients from existing hospitals."
   ]
  },
  {
   "cell_type": "code",
   "execution_count": 40,
   "metadata": {},
   "outputs": [
    {
     "data": {
      "text/plain": [
       "count      496.000000\n",
       "mean      5765.905242\n",
       "std       8130.184861\n",
       "min         19.000000\n",
       "25%        575.500000\n",
       "50%       1757.500000\n",
       "75%       8398.250000\n",
       "max      59281.000000\n",
       "Name: Total Discharges, dtype: float64"
      ]
     },
     "execution_count": 40,
     "metadata": {},
     "output_type": "execute_result"
    }
   ],
   "source": [
    "df_06['Total Discharges'].describe()"
   ]
  },
  {
   "cell_type": "markdown",
   "metadata": {},
   "source": [
    "Taking a look at 2007 data now."
   ]
  },
  {
   "cell_type": "code",
   "execution_count": 41,
   "metadata": {},
   "outputs": [],
   "source": [
    "df_07 = pd.read_excel('data/HospitalStatistics2007.xls')"
   ]
  },
  {
   "cell_type": "code",
   "execution_count": 42,
   "metadata": {
    "scrolled": true
   },
   "outputs": [
    {
     "name": "stdout",
     "output_type": "stream",
     "text": [
      "<class 'pandas.core.frame.DataFrame'>\n",
      "RangeIndex: 559 entries, 0 to 558\n",
      "Data columns (total 8 columns):\n",
      " #   Column                     Non-Null Count  Dtype  \n",
      "---  ------                     --------------  -----  \n",
      " 0   THCIC_ID                   559 non-null    int64  \n",
      " 1   Hospital name              559 non-null    object \n",
      " 2   Hospital city              559 non-null    object \n",
      " 3   Hospital county            559 non-null    object \n",
      " 4   1q07 Inpatient Discharges  529 non-null    float64\n",
      " 5   2q07 Inpatient Discharges  531 non-null    float64\n",
      " 6   3q07 Inpatient Discharges  515 non-null    float64\n",
      " 7   4q07 Inpatient Discharges  516 non-null    float64\n",
      "dtypes: float64(4), int64(1), object(3)\n",
      "memory usage: 35.1+ KB\n"
     ]
    }
   ],
   "source": [
    "df_07.info()\n",
    "\n",
    "# Now there are another 20 hospitals being added since 2006"
   ]
  },
  {
   "cell_type": "code",
   "execution_count": 43,
   "metadata": {},
   "outputs": [],
   "source": [
    "df_07['Total Discharges'] = df_07['1q07 Inpatient Discharges'] + df_07['2q07 Inpatient Discharges'] + \\\n",
    "df_07['3q07 Inpatient Discharges'] + df_07['4q07 Inpatient Discharges']"
   ]
  },
  {
   "cell_type": "code",
   "execution_count": 44,
   "metadata": {},
   "outputs": [
    {
     "data": {
      "text/plain": [
       "THCIC_ID                      0\n",
       "Hospital name                 0\n",
       "Hospital city                 0\n",
       "Hospital county               0\n",
       "1q07 Inpatient Discharges    30\n",
       "2q07 Inpatient Discharges    28\n",
       "3q07 Inpatient Discharges    44\n",
       "4q07 Inpatient Discharges    43\n",
       "Total Discharges             75\n",
       "dtype: int64"
      ]
     },
     "execution_count": 44,
     "metadata": {},
     "output_type": "execute_result"
    }
   ],
   "source": [
    "df_07.isna().sum()"
   ]
  },
  {
   "cell_type": "code",
   "execution_count": 45,
   "metadata": {},
   "outputs": [],
   "source": [
    "df_08 = pd.read_excel('data/HospitalStatistics2008.xls')"
   ]
  },
  {
   "cell_type": "code",
   "execution_count": 49,
   "metadata": {
    "scrolled": true
   },
   "outputs": [],
   "source": [
    "df_08['Total Discharges'] = df_08['1q08 Inpatient Discharges'] + df_08['2q08 Inpatient Discharges'] + \\\n",
    "df_08['3q08 Inpatient Discharges'] + df_08['4q08 Inpatient Discharges']"
   ]
  },
  {
   "cell_type": "code",
   "execution_count": 55,
   "metadata": {},
   "outputs": [
    {
     "data": {
      "text/html": [
       "<div>\n",
       "<style scoped>\n",
       "    .dataframe tbody tr th:only-of-type {\n",
       "        vertical-align: middle;\n",
       "    }\n",
       "\n",
       "    .dataframe tbody tr th {\n",
       "        vertical-align: top;\n",
       "    }\n",
       "\n",
       "    .dataframe thead th {\n",
       "        text-align: right;\n",
       "    }\n",
       "</style>\n",
       "<table border=\"1\" class=\"dataframe\">\n",
       "  <thead>\n",
       "    <tr style=\"text-align: right;\">\n",
       "      <th></th>\n",
       "      <th>THCIC_ID</th>\n",
       "      <th>Hospital name</th>\n",
       "      <th>Hospital city</th>\n",
       "      <th>Hospital county</th>\n",
       "      <th>1q08 Inpatient Discharges</th>\n",
       "      <th>2q08 Inpatient Discharges</th>\n",
       "      <th>3q08 Inpatient Discharges</th>\n",
       "      <th>4q08 Inpatient Discharges</th>\n",
       "      <th>Total Discharges</th>\n",
       "    </tr>\n",
       "  </thead>\n",
       "  <tbody>\n",
       "    <tr>\n",
       "      <th>0</th>\n",
       "      <td>91001</td>\n",
       "      <td>Abilene Regional Medical Center</td>\n",
       "      <td>Abilene</td>\n",
       "      <td>Taylor</td>\n",
       "      <td>2594.0</td>\n",
       "      <td>2214.0</td>\n",
       "      <td>2303.0</td>\n",
       "      <td>2196.0</td>\n",
       "      <td>9307.0</td>\n",
       "    </tr>\n",
       "    <tr>\n",
       "      <th>1</th>\n",
       "      <td>500000</td>\n",
       "      <td>Hendrick Medical Center</td>\n",
       "      <td>Abilene</td>\n",
       "      <td>Taylor</td>\n",
       "      <td>4135.0</td>\n",
       "      <td>4166.0</td>\n",
       "      <td>4312.0</td>\n",
       "      <td>4267.0</td>\n",
       "      <td>16880.0</td>\n",
       "    </tr>\n",
       "    <tr>\n",
       "      <th>2</th>\n",
       "      <td>688000</td>\n",
       "      <td>Hendrick Center- Extended Care</td>\n",
       "      <td>Abilene</td>\n",
       "      <td>Taylor</td>\n",
       "      <td>60.0</td>\n",
       "      <td>49.0</td>\n",
       "      <td>57.0</td>\n",
       "      <td>45.0</td>\n",
       "      <td>211.0</td>\n",
       "    </tr>\n",
       "    <tr>\n",
       "      <th>3</th>\n",
       "      <td>846000</td>\n",
       "      <td>Acadia Abilene</td>\n",
       "      <td>Abilene</td>\n",
       "      <td>Taylor</td>\n",
       "      <td>24.0</td>\n",
       "      <td>355.0</td>\n",
       "      <td>359.0</td>\n",
       "      <td>363.0</td>\n",
       "      <td>1101.0</td>\n",
       "    </tr>\n",
       "    <tr>\n",
       "      <th>4</th>\n",
       "      <td>689400</td>\n",
       "      <td>CHRISTUS Spohn Hospital Alice-Laviana</td>\n",
       "      <td>Alice</td>\n",
       "      <td>Jim Wells</td>\n",
       "      <td>50.0</td>\n",
       "      <td>50.0</td>\n",
       "      <td>54.0</td>\n",
       "      <td>55.0</td>\n",
       "      <td>209.0</td>\n",
       "    </tr>\n",
       "    <tr>\n",
       "      <th>...</th>\n",
       "      <td>...</td>\n",
       "      <td>...</td>\n",
       "      <td>...</td>\n",
       "      <td>...</td>\n",
       "      <td>...</td>\n",
       "      <td>...</td>\n",
       "      <td>...</td>\n",
       "      <td>...</td>\n",
       "      <td>...</td>\n",
       "    </tr>\n",
       "    <tr>\n",
       "      <th>537</th>\n",
       "      <td>709001</td>\n",
       "      <td>Red River Hospital</td>\n",
       "      <td>Wichita Falls</td>\n",
       "      <td>Wichita</td>\n",
       "      <td>364.0</td>\n",
       "      <td>384.0</td>\n",
       "      <td>399.0</td>\n",
       "      <td>360.0</td>\n",
       "      <td>1507.0</td>\n",
       "    </tr>\n",
       "    <tr>\n",
       "      <th>538</th>\n",
       "      <td>820002</td>\n",
       "      <td>Texas Specialty Hospital-Wichita Falls</td>\n",
       "      <td>Wichita Falls</td>\n",
       "      <td>Wichita</td>\n",
       "      <td>69.0</td>\n",
       "      <td>73.0</td>\n",
       "      <td>76.0</td>\n",
       "      <td>60.0</td>\n",
       "      <td>278.0</td>\n",
       "    </tr>\n",
       "    <tr>\n",
       "      <th>539</th>\n",
       "      <td>781400</td>\n",
       "      <td>Winnie Community Hospital</td>\n",
       "      <td>Winnie</td>\n",
       "      <td>Chambers</td>\n",
       "      <td>170.0</td>\n",
       "      <td>162.0</td>\n",
       "      <td>107.0</td>\n",
       "      <td>135.0</td>\n",
       "      <td>574.0</td>\n",
       "    </tr>\n",
       "    <tr>\n",
       "      <th>540</th>\n",
       "      <td>446000</td>\n",
       "      <td>Texas Health Presbyterian Hospital-Winnsboro</td>\n",
       "      <td>Winnsboro</td>\n",
       "      <td>Wood</td>\n",
       "      <td>185.0</td>\n",
       "      <td>156.0</td>\n",
       "      <td>143.0</td>\n",
       "      <td>179.0</td>\n",
       "      <td>663.0</td>\n",
       "    </tr>\n",
       "    <tr>\n",
       "      <th>541</th>\n",
       "      <td>23000</td>\n",
       "      <td>Yoakum Community Hospital</td>\n",
       "      <td>Yoakum</td>\n",
       "      <td>Lavaca</td>\n",
       "      <td>334.0</td>\n",
       "      <td>257.0</td>\n",
       "      <td>255.0</td>\n",
       "      <td>238.0</td>\n",
       "      <td>1084.0</td>\n",
       "    </tr>\n",
       "  </tbody>\n",
       "</table>\n",
       "<p>542 rows × 9 columns</p>\n",
       "</div>"
      ],
      "text/plain": [
       "     THCIC_ID                                 Hospital name  Hospital city  \\\n",
       "0       91001               Abilene Regional Medical Center        Abilene   \n",
       "1      500000                       Hendrick Medical Center        Abilene   \n",
       "2      688000                Hendrick Center- Extended Care        Abilene   \n",
       "3      846000                                Acadia Abilene        Abilene   \n",
       "4      689400         CHRISTUS Spohn Hospital Alice-Laviana          Alice   \n",
       "..        ...                                           ...            ...   \n",
       "537    709001                            Red River Hospital  Wichita Falls   \n",
       "538    820002        Texas Specialty Hospital-Wichita Falls  Wichita Falls   \n",
       "539    781400                     Winnie Community Hospital         Winnie   \n",
       "540    446000  Texas Health Presbyterian Hospital-Winnsboro      Winnsboro   \n",
       "541     23000                     Yoakum Community Hospital         Yoakum   \n",
       "\n",
       "    Hospital county  1q08 Inpatient Discharges  2q08 Inpatient Discharges  \\\n",
       "0            Taylor                     2594.0                     2214.0   \n",
       "1            Taylor                     4135.0                     4166.0   \n",
       "2            Taylor                       60.0                       49.0   \n",
       "3            Taylor                       24.0                      355.0   \n",
       "4         Jim Wells                       50.0                       50.0   \n",
       "..              ...                        ...                        ...   \n",
       "537         Wichita                      364.0                      384.0   \n",
       "538         Wichita                       69.0                       73.0   \n",
       "539        Chambers                      170.0                      162.0   \n",
       "540            Wood                      185.0                      156.0   \n",
       "541          Lavaca                      334.0                      257.0   \n",
       "\n",
       "     3q08 Inpatient Discharges  4q08 Inpatient Discharges  Total Discharges  \n",
       "0                       2303.0                     2196.0            9307.0  \n",
       "1                       4312.0                     4267.0           16880.0  \n",
       "2                         57.0                       45.0             211.0  \n",
       "3                        359.0                      363.0            1101.0  \n",
       "4                         54.0                       55.0             209.0  \n",
       "..                         ...                        ...               ...  \n",
       "537                      399.0                      360.0            1507.0  \n",
       "538                       76.0                       60.0             278.0  \n",
       "539                      107.0                      135.0             574.0  \n",
       "540                      143.0                      179.0             663.0  \n",
       "541                      255.0                      238.0            1084.0  \n",
       "\n",
       "[542 rows x 9 columns]"
      ]
     },
     "execution_count": 55,
     "metadata": {},
     "output_type": "execute_result"
    }
   ],
   "source": [
    "df_08"
   ]
  },
  {
   "cell_type": "code",
   "execution_count": 51,
   "metadata": {
    "scrolled": false
   },
   "outputs": [
    {
     "data": {
      "text/plain": [
       "THCIC_ID                      0\n",
       "Hospital name                 0\n",
       "Hospital city                 0\n",
       "Hospital county               0\n",
       "1q08 Inpatient Discharges    21\n",
       "2q08 Inpatient Discharges    16\n",
       "3q08 Inpatient Discharges    13\n",
       "4q08 Inpatient Discharges    18\n",
       "Total Discharges             41\n",
       "dtype: int64"
      ]
     },
     "execution_count": 51,
     "metadata": {},
     "output_type": "execute_result"
    }
   ],
   "source": [
    "df_08.isna().sum()"
   ]
  },
  {
   "cell_type": "code",
   "execution_count": 52,
   "metadata": {},
   "outputs": [],
   "source": [
    "df_09 = pd.read_excel('data/HospitalStatistics2009.xls')"
   ]
  },
  {
   "cell_type": "code",
   "execution_count": 53,
   "metadata": {},
   "outputs": [],
   "source": [
    "df_09['Total Discharges'] = df_09['1q09 Inpatient Discharges'] + df_09['2q09 Inpatient Discharges'] + \\\n",
    "df_09['3q09 Inpatient Discharges'] + df_09['4q09 Inpatient Discharges']"
   ]
  },
  {
   "cell_type": "code",
   "execution_count": 54,
   "metadata": {},
   "outputs": [
    {
     "data": {
      "text/html": [
       "<div>\n",
       "<style scoped>\n",
       "    .dataframe tbody tr th:only-of-type {\n",
       "        vertical-align: middle;\n",
       "    }\n",
       "\n",
       "    .dataframe tbody tr th {\n",
       "        vertical-align: top;\n",
       "    }\n",
       "\n",
       "    .dataframe thead th {\n",
       "        text-align: right;\n",
       "    }\n",
       "</style>\n",
       "<table border=\"1\" class=\"dataframe\">\n",
       "  <thead>\n",
       "    <tr style=\"text-align: right;\">\n",
       "      <th></th>\n",
       "      <th>THCIC_ID</th>\n",
       "      <th>Hospital name</th>\n",
       "      <th>Hospital city</th>\n",
       "      <th>Hospital county</th>\n",
       "      <th>1q09 Inpatient Discharges</th>\n",
       "      <th>2q09 Inpatient Discharges</th>\n",
       "      <th>3q09 Inpatient Discharges</th>\n",
       "      <th>4q09 Inpatient Discharges</th>\n",
       "      <th>Total Discharges</th>\n",
       "    </tr>\n",
       "  </thead>\n",
       "  <tbody>\n",
       "    <tr>\n",
       "      <th>0</th>\n",
       "      <td>91001</td>\n",
       "      <td>Abilene Regional Medical Center</td>\n",
       "      <td>Abilene</td>\n",
       "      <td>Taylor</td>\n",
       "      <td>2243.0</td>\n",
       "      <td>2313.0</td>\n",
       "      <td>2265.0</td>\n",
       "      <td>2620.0</td>\n",
       "      <td>9441.0</td>\n",
       "    </tr>\n",
       "    <tr>\n",
       "      <th>1</th>\n",
       "      <td>500000</td>\n",
       "      <td>Hendrick Medical Center</td>\n",
       "      <td>Abilene</td>\n",
       "      <td>Taylor</td>\n",
       "      <td>4500.0</td>\n",
       "      <td>4133.0</td>\n",
       "      <td>4274.0</td>\n",
       "      <td>4290.0</td>\n",
       "      <td>17197.0</td>\n",
       "    </tr>\n",
       "    <tr>\n",
       "      <th>2</th>\n",
       "      <td>688000</td>\n",
       "      <td>Hendrick Center- Extended Care</td>\n",
       "      <td>Abilene</td>\n",
       "      <td>Taylor</td>\n",
       "      <td>46.0</td>\n",
       "      <td>47.0</td>\n",
       "      <td>54.0</td>\n",
       "      <td>49.0</td>\n",
       "      <td>196.0</td>\n",
       "    </tr>\n",
       "    <tr>\n",
       "      <th>3</th>\n",
       "      <td>846000</td>\n",
       "      <td>Acadia Abilene</td>\n",
       "      <td>Abilene</td>\n",
       "      <td>Taylor</td>\n",
       "      <td>353.0</td>\n",
       "      <td>363.0</td>\n",
       "      <td>365.0</td>\n",
       "      <td>347.0</td>\n",
       "      <td>1428.0</td>\n",
       "    </tr>\n",
       "    <tr>\n",
       "      <th>4</th>\n",
       "      <td>689400</td>\n",
       "      <td>CHRISTUS Spohn Hospital Alice-Laviana</td>\n",
       "      <td>Alice</td>\n",
       "      <td>Jim Wells</td>\n",
       "      <td>47.0</td>\n",
       "      <td>44.0</td>\n",
       "      <td>41.0</td>\n",
       "      <td>47.0</td>\n",
       "      <td>179.0</td>\n",
       "    </tr>\n",
       "    <tr>\n",
       "      <th>...</th>\n",
       "      <td>...</td>\n",
       "      <td>...</td>\n",
       "      <td>...</td>\n",
       "      <td>...</td>\n",
       "      <td>...</td>\n",
       "      <td>...</td>\n",
       "      <td>...</td>\n",
       "      <td>...</td>\n",
       "      <td>...</td>\n",
       "    </tr>\n",
       "    <tr>\n",
       "      <th>540</th>\n",
       "      <td>709001</td>\n",
       "      <td>Red River Hospital</td>\n",
       "      <td>Wichita Falls</td>\n",
       "      <td>Wichita</td>\n",
       "      <td>375.0</td>\n",
       "      <td>420.0</td>\n",
       "      <td>430.0</td>\n",
       "      <td>418.0</td>\n",
       "      <td>1643.0</td>\n",
       "    </tr>\n",
       "    <tr>\n",
       "      <th>541</th>\n",
       "      <td>820002</td>\n",
       "      <td>Texas Specialty Hospital-Wichita Falls</td>\n",
       "      <td>Wichita Falls</td>\n",
       "      <td>Wichita</td>\n",
       "      <td>66.0</td>\n",
       "      <td>65.0</td>\n",
       "      <td>50.0</td>\n",
       "      <td>65.0</td>\n",
       "      <td>246.0</td>\n",
       "    </tr>\n",
       "    <tr>\n",
       "      <th>542</th>\n",
       "      <td>781400</td>\n",
       "      <td>Winnie Community Hospital</td>\n",
       "      <td>Winnie</td>\n",
       "      <td>Chambers</td>\n",
       "      <td>116.0</td>\n",
       "      <td>110.0</td>\n",
       "      <td>113.0</td>\n",
       "      <td>136.0</td>\n",
       "      <td>475.0</td>\n",
       "    </tr>\n",
       "    <tr>\n",
       "      <th>543</th>\n",
       "      <td>446000</td>\n",
       "      <td>Texas Health Presbyterian Hospital-Winnsboro</td>\n",
       "      <td>Winnsboro</td>\n",
       "      <td>Wood</td>\n",
       "      <td>190.0</td>\n",
       "      <td>191.0</td>\n",
       "      <td>182.0</td>\n",
       "      <td>172.0</td>\n",
       "      <td>735.0</td>\n",
       "    </tr>\n",
       "    <tr>\n",
       "      <th>544</th>\n",
       "      <td>23000</td>\n",
       "      <td>Yoakum Community Hospital</td>\n",
       "      <td>Yoakum</td>\n",
       "      <td>Lavaca</td>\n",
       "      <td>309.0</td>\n",
       "      <td>285.0</td>\n",
       "      <td>294.0</td>\n",
       "      <td>300.0</td>\n",
       "      <td>1188.0</td>\n",
       "    </tr>\n",
       "  </tbody>\n",
       "</table>\n",
       "<p>545 rows × 9 columns</p>\n",
       "</div>"
      ],
      "text/plain": [
       "     THCIC_ID                                 Hospital name  Hospital city  \\\n",
       "0       91001               Abilene Regional Medical Center        Abilene   \n",
       "1      500000                       Hendrick Medical Center        Abilene   \n",
       "2      688000                Hendrick Center- Extended Care        Abilene   \n",
       "3      846000                                Acadia Abilene        Abilene   \n",
       "4      689400         CHRISTUS Spohn Hospital Alice-Laviana          Alice   \n",
       "..        ...                                           ...            ...   \n",
       "540    709001                            Red River Hospital  Wichita Falls   \n",
       "541    820002        Texas Specialty Hospital-Wichita Falls  Wichita Falls   \n",
       "542    781400                     Winnie Community Hospital         Winnie   \n",
       "543    446000  Texas Health Presbyterian Hospital-Winnsboro      Winnsboro   \n",
       "544     23000                     Yoakum Community Hospital         Yoakum   \n",
       "\n",
       "    Hospital county  1q09 Inpatient Discharges  2q09 Inpatient Discharges  \\\n",
       "0            Taylor                     2243.0                     2313.0   \n",
       "1            Taylor                     4500.0                     4133.0   \n",
       "2            Taylor                       46.0                       47.0   \n",
       "3            Taylor                      353.0                      363.0   \n",
       "4         Jim Wells                       47.0                       44.0   \n",
       "..              ...                        ...                        ...   \n",
       "540         Wichita                      375.0                      420.0   \n",
       "541         Wichita                       66.0                       65.0   \n",
       "542        Chambers                      116.0                      110.0   \n",
       "543            Wood                      190.0                      191.0   \n",
       "544          Lavaca                      309.0                      285.0   \n",
       "\n",
       "     3q09 Inpatient Discharges  4q09 Inpatient Discharges  Total Discharges  \n",
       "0                       2265.0                     2620.0            9441.0  \n",
       "1                       4274.0                     4290.0           17197.0  \n",
       "2                         54.0                       49.0             196.0  \n",
       "3                        365.0                      347.0            1428.0  \n",
       "4                         41.0                       47.0             179.0  \n",
       "..                         ...                        ...               ...  \n",
       "540                      430.0                      418.0            1643.0  \n",
       "541                       50.0                       65.0             246.0  \n",
       "542                      113.0                      136.0             475.0  \n",
       "543                      182.0                      172.0             735.0  \n",
       "544                      294.0                      300.0            1188.0  \n",
       "\n",
       "[545 rows x 9 columns]"
      ]
     },
     "execution_count": 54,
     "metadata": {},
     "output_type": "execute_result"
    }
   ],
   "source": [
    "df_09"
   ]
  },
  {
   "cell_type": "code",
   "execution_count": 57,
   "metadata": {},
   "outputs": [],
   "source": [
    "df_10 = pd.read_excel('data/HospitalStatistics2010_Q4.xls')"
   ]
  },
  {
   "cell_type": "code",
   "execution_count": 59,
   "metadata": {},
   "outputs": [],
   "source": [
    "df_10['Total Discharges'] = df_10['1q10 Inpatient Discharges'] + df_10['2q10 Inpatient Discharges'] + \\\n",
    "df_10['3q10 Inpatient Discharges'] + df_10['4q10 Inpatient Discharges']"
   ]
  },
  {
   "cell_type": "code",
   "execution_count": 60,
   "metadata": {},
   "outputs": [
    {
     "data": {
      "text/html": [
       "<div>\n",
       "<style scoped>\n",
       "    .dataframe tbody tr th:only-of-type {\n",
       "        vertical-align: middle;\n",
       "    }\n",
       "\n",
       "    .dataframe tbody tr th {\n",
       "        vertical-align: top;\n",
       "    }\n",
       "\n",
       "    .dataframe thead th {\n",
       "        text-align: right;\n",
       "    }\n",
       "</style>\n",
       "<table border=\"1\" class=\"dataframe\">\n",
       "  <thead>\n",
       "    <tr style=\"text-align: right;\">\n",
       "      <th></th>\n",
       "      <th>THCIC_ID</th>\n",
       "      <th>Hospital name</th>\n",
       "      <th>Hospital city</th>\n",
       "      <th>Hospital county</th>\n",
       "      <th>1q10 Inpatient Discharges</th>\n",
       "      <th>2q10 Inpatient Discharges</th>\n",
       "      <th>3q10 Inpatient Discharges</th>\n",
       "      <th>4q10 Inpatient Discharges</th>\n",
       "      <th>Total Discharges</th>\n",
       "    </tr>\n",
       "  </thead>\n",
       "  <tbody>\n",
       "    <tr>\n",
       "      <th>0</th>\n",
       "      <td>91001</td>\n",
       "      <td>Abilene Regional Medical Center</td>\n",
       "      <td>Abilene</td>\n",
       "      <td>Taylor</td>\n",
       "      <td>2293.0</td>\n",
       "      <td>2283.0</td>\n",
       "      <td>2327.0</td>\n",
       "      <td>2222.0</td>\n",
       "      <td>9125.0</td>\n",
       "    </tr>\n",
       "    <tr>\n",
       "      <th>1</th>\n",
       "      <td>500000</td>\n",
       "      <td>Hendrick Medical Center</td>\n",
       "      <td>Abilene</td>\n",
       "      <td>Taylor</td>\n",
       "      <td>4269.0</td>\n",
       "      <td>4057.0</td>\n",
       "      <td>4112.0</td>\n",
       "      <td>4165.0</td>\n",
       "      <td>16603.0</td>\n",
       "    </tr>\n",
       "    <tr>\n",
       "      <th>2</th>\n",
       "      <td>688000</td>\n",
       "      <td>Hendrick Center- Extended Care</td>\n",
       "      <td>Abilene</td>\n",
       "      <td>Taylor</td>\n",
       "      <td>41.0</td>\n",
       "      <td>38.0</td>\n",
       "      <td>47.0</td>\n",
       "      <td>47.0</td>\n",
       "      <td>173.0</td>\n",
       "    </tr>\n",
       "    <tr>\n",
       "      <th>3</th>\n",
       "      <td>846000</td>\n",
       "      <td>Acadia Abilene</td>\n",
       "      <td>Abilene</td>\n",
       "      <td>Taylor</td>\n",
       "      <td>391.0</td>\n",
       "      <td>436.0</td>\n",
       "      <td>418.0</td>\n",
       "      <td>400.0</td>\n",
       "      <td>1645.0</td>\n",
       "    </tr>\n",
       "    <tr>\n",
       "      <th>4</th>\n",
       "      <td>920000</td>\n",
       "      <td>Reliant Rehab Hospital Abilene</td>\n",
       "      <td>Abilene</td>\n",
       "      <td>Taylor</td>\n",
       "      <td>85.0</td>\n",
       "      <td>124.0</td>\n",
       "      <td>103.0</td>\n",
       "      <td>108.0</td>\n",
       "      <td>420.0</td>\n",
       "    </tr>\n",
       "    <tr>\n",
       "      <th>...</th>\n",
       "      <td>...</td>\n",
       "      <td>...</td>\n",
       "      <td>...</td>\n",
       "      <td>...</td>\n",
       "      <td>...</td>\n",
       "      <td>...</td>\n",
       "      <td>...</td>\n",
       "      <td>...</td>\n",
       "      <td>...</td>\n",
       "    </tr>\n",
       "    <tr>\n",
       "      <th>563</th>\n",
       "      <td>820002</td>\n",
       "      <td>Texas Specialty Hospital-Wichita Falls</td>\n",
       "      <td>Wichita Falls</td>\n",
       "      <td>Wichita</td>\n",
       "      <td>65.0</td>\n",
       "      <td>53.0</td>\n",
       "      <td>60.0</td>\n",
       "      <td>59.0</td>\n",
       "      <td>237.0</td>\n",
       "    </tr>\n",
       "    <tr>\n",
       "      <th>564</th>\n",
       "      <td>781400</td>\n",
       "      <td>Winnie Community Hospital</td>\n",
       "      <td>Winnie</td>\n",
       "      <td>Chambers</td>\n",
       "      <td>141.0</td>\n",
       "      <td>138.0</td>\n",
       "      <td>136.0</td>\n",
       "      <td>132.0</td>\n",
       "      <td>547.0</td>\n",
       "    </tr>\n",
       "    <tr>\n",
       "      <th>565</th>\n",
       "      <td>446000</td>\n",
       "      <td>Texas Health Presbyterian Hospital-Winnsboro</td>\n",
       "      <td>Winnsboro</td>\n",
       "      <td>Wood</td>\n",
       "      <td>107.0</td>\n",
       "      <td>NaN</td>\n",
       "      <td>NaN</td>\n",
       "      <td>NaN</td>\n",
       "      <td>NaN</td>\n",
       "    </tr>\n",
       "    <tr>\n",
       "      <th>566</th>\n",
       "      <td>446001</td>\n",
       "      <td>Mother Frances Hospital Winnsboro</td>\n",
       "      <td>Winnsboro</td>\n",
       "      <td>Wood</td>\n",
       "      <td>68.0</td>\n",
       "      <td>198.0</td>\n",
       "      <td>214.0</td>\n",
       "      <td>204.0</td>\n",
       "      <td>684.0</td>\n",
       "    </tr>\n",
       "    <tr>\n",
       "      <th>567</th>\n",
       "      <td>23000</td>\n",
       "      <td>Yoakum Community Hospital</td>\n",
       "      <td>Yoakum</td>\n",
       "      <td>Lavaca</td>\n",
       "      <td>307.0</td>\n",
       "      <td>298.0</td>\n",
       "      <td>274.0</td>\n",
       "      <td>273.0</td>\n",
       "      <td>1152.0</td>\n",
       "    </tr>\n",
       "  </tbody>\n",
       "</table>\n",
       "<p>568 rows × 9 columns</p>\n",
       "</div>"
      ],
      "text/plain": [
       "     THCIC_ID                                 Hospital name  Hospital city  \\\n",
       "0       91001               Abilene Regional Medical Center        Abilene   \n",
       "1      500000                       Hendrick Medical Center        Abilene   \n",
       "2      688000                Hendrick Center- Extended Care        Abilene   \n",
       "3      846000                                Acadia Abilene        Abilene   \n",
       "4      920000                Reliant Rehab Hospital Abilene        Abilene   \n",
       "..        ...                                           ...            ...   \n",
       "563    820002        Texas Specialty Hospital-Wichita Falls  Wichita Falls   \n",
       "564    781400                     Winnie Community Hospital         Winnie   \n",
       "565    446000  Texas Health Presbyterian Hospital-Winnsboro      Winnsboro   \n",
       "566    446001             Mother Frances Hospital Winnsboro      Winnsboro   \n",
       "567     23000                     Yoakum Community Hospital         Yoakum   \n",
       "\n",
       "    Hospital county  1q10 Inpatient Discharges  2q10 Inpatient Discharges  \\\n",
       "0            Taylor                     2293.0                     2283.0   \n",
       "1            Taylor                     4269.0                     4057.0   \n",
       "2            Taylor                       41.0                       38.0   \n",
       "3            Taylor                      391.0                      436.0   \n",
       "4            Taylor                       85.0                      124.0   \n",
       "..              ...                        ...                        ...   \n",
       "563         Wichita                       65.0                       53.0   \n",
       "564        Chambers                      141.0                      138.0   \n",
       "565            Wood                      107.0                        NaN   \n",
       "566            Wood                       68.0                      198.0   \n",
       "567          Lavaca                      307.0                      298.0   \n",
       "\n",
       "     3q10 Inpatient Discharges  4q10 Inpatient Discharges  Total Discharges  \n",
       "0                       2327.0                     2222.0            9125.0  \n",
       "1                       4112.0                     4165.0           16603.0  \n",
       "2                         47.0                       47.0             173.0  \n",
       "3                        418.0                      400.0            1645.0  \n",
       "4                        103.0                      108.0             420.0  \n",
       "..                         ...                        ...               ...  \n",
       "563                       60.0                       59.0             237.0  \n",
       "564                      136.0                      132.0             547.0  \n",
       "565                        NaN                        NaN               NaN  \n",
       "566                      214.0                      204.0             684.0  \n",
       "567                      274.0                      273.0            1152.0  \n",
       "\n",
       "[568 rows x 9 columns]"
      ]
     },
     "execution_count": 60,
     "metadata": {},
     "output_type": "execute_result"
    }
   ],
   "source": [
    "df_10"
   ]
  },
  {
   "cell_type": "code",
   "execution_count": 62,
   "metadata": {},
   "outputs": [],
   "source": [
    "df_11 = pd.read_excel('data/IP_Stat_2011.xls')"
   ]
  },
  {
   "cell_type": "code",
   "execution_count": 64,
   "metadata": {},
   "outputs": [],
   "source": [
    "df_11['Total Discharges'] = df_11['1q11 Inpatient Discharges'] + df_11['2q11 Inpatient Discharges'] + \\\n",
    "df_11['3q11 Inpatient Discharges'] + df_11['4q11 Inpatient Discharges']"
   ]
  },
  {
   "cell_type": "code",
   "execution_count": 65,
   "metadata": {},
   "outputs": [
    {
     "data": {
      "text/html": [
       "<div>\n",
       "<style scoped>\n",
       "    .dataframe tbody tr th:only-of-type {\n",
       "        vertical-align: middle;\n",
       "    }\n",
       "\n",
       "    .dataframe tbody tr th {\n",
       "        vertical-align: top;\n",
       "    }\n",
       "\n",
       "    .dataframe thead th {\n",
       "        text-align: right;\n",
       "    }\n",
       "</style>\n",
       "<table border=\"1\" class=\"dataframe\">\n",
       "  <thead>\n",
       "    <tr style=\"text-align: right;\">\n",
       "      <th></th>\n",
       "      <th>THCIC_ID</th>\n",
       "      <th>Hospital name</th>\n",
       "      <th>Hospital city</th>\n",
       "      <th>Hospital county</th>\n",
       "      <th>1q11 Inpatient Discharges</th>\n",
       "      <th>2q11 Inpatient Discharges</th>\n",
       "      <th>3q11 Inpatient Discharges</th>\n",
       "      <th>4q11 Inpatient Discharges</th>\n",
       "      <th>Total Discharges</th>\n",
       "    </tr>\n",
       "  </thead>\n",
       "  <tbody>\n",
       "    <tr>\n",
       "      <th>0</th>\n",
       "      <td>91001</td>\n",
       "      <td>Abilene Regional Medical Center</td>\n",
       "      <td>Abilene</td>\n",
       "      <td>Taylor</td>\n",
       "      <td>2094.0</td>\n",
       "      <td>1965.0</td>\n",
       "      <td>1970.0</td>\n",
       "      <td>2048.0</td>\n",
       "      <td>8077.0</td>\n",
       "    </tr>\n",
       "    <tr>\n",
       "      <th>1</th>\n",
       "      <td>500000</td>\n",
       "      <td>Hendrick Medical Center</td>\n",
       "      <td>Abilene</td>\n",
       "      <td>Taylor</td>\n",
       "      <td>4248.0</td>\n",
       "      <td>4060.0</td>\n",
       "      <td>4225.0</td>\n",
       "      <td>4064.0</td>\n",
       "      <td>16597.0</td>\n",
       "    </tr>\n",
       "    <tr>\n",
       "      <th>2</th>\n",
       "      <td>688000</td>\n",
       "      <td>Hendrick Center- Extended Care</td>\n",
       "      <td>Abilene</td>\n",
       "      <td>Taylor</td>\n",
       "      <td>58.0</td>\n",
       "      <td>62.0</td>\n",
       "      <td>39.0</td>\n",
       "      <td>53.0</td>\n",
       "      <td>212.0</td>\n",
       "    </tr>\n",
       "    <tr>\n",
       "      <th>3</th>\n",
       "      <td>846000</td>\n",
       "      <td>Acadia Abilene</td>\n",
       "      <td>Abilene</td>\n",
       "      <td>Taylor</td>\n",
       "      <td>399.0</td>\n",
       "      <td>447.0</td>\n",
       "      <td>439.0</td>\n",
       "      <td>383.0</td>\n",
       "      <td>1668.0</td>\n",
       "    </tr>\n",
       "    <tr>\n",
       "      <th>4</th>\n",
       "      <td>920000</td>\n",
       "      <td>Reliant Rehab Hospital Abilene</td>\n",
       "      <td>Abilene</td>\n",
       "      <td>Taylor</td>\n",
       "      <td>116.0</td>\n",
       "      <td>126.0</td>\n",
       "      <td>94.0</td>\n",
       "      <td>105.0</td>\n",
       "      <td>441.0</td>\n",
       "    </tr>\n",
       "    <tr>\n",
       "      <th>...</th>\n",
       "      <td>...</td>\n",
       "      <td>...</td>\n",
       "      <td>...</td>\n",
       "      <td>...</td>\n",
       "      <td>...</td>\n",
       "      <td>...</td>\n",
       "      <td>...</td>\n",
       "      <td>...</td>\n",
       "      <td>...</td>\n",
       "    </tr>\n",
       "    <tr>\n",
       "      <th>571</th>\n",
       "      <td>685000</td>\n",
       "      <td>HEALTHSOUTH Rehab Hospital-Wichita Falls</td>\n",
       "      <td>Wichita Falls</td>\n",
       "      <td>Wichita</td>\n",
       "      <td>320.0</td>\n",
       "      <td>331.0</td>\n",
       "      <td>339.0</td>\n",
       "      <td>334.0</td>\n",
       "      <td>1324.0</td>\n",
       "    </tr>\n",
       "    <tr>\n",
       "      <th>572</th>\n",
       "      <td>709001</td>\n",
       "      <td>Red River Hospital</td>\n",
       "      <td>Wichita Falls</td>\n",
       "      <td>Wichita</td>\n",
       "      <td>433.0</td>\n",
       "      <td>512.0</td>\n",
       "      <td>459.0</td>\n",
       "      <td>438.0</td>\n",
       "      <td>1842.0</td>\n",
       "    </tr>\n",
       "    <tr>\n",
       "      <th>573</th>\n",
       "      <td>820002</td>\n",
       "      <td>Texas Specialty Hospital-Wichita Falls</td>\n",
       "      <td>Wichita Falls</td>\n",
       "      <td>Wichita</td>\n",
       "      <td>57.0</td>\n",
       "      <td>55.0</td>\n",
       "      <td>56.0</td>\n",
       "      <td>63.0</td>\n",
       "      <td>231.0</td>\n",
       "    </tr>\n",
       "    <tr>\n",
       "      <th>574</th>\n",
       "      <td>446001</td>\n",
       "      <td>Mother Frances Hospital Winnsboro</td>\n",
       "      <td>Winnsboro</td>\n",
       "      <td>Wood</td>\n",
       "      <td>244.0</td>\n",
       "      <td>198.0</td>\n",
       "      <td>241.0</td>\n",
       "      <td>200.0</td>\n",
       "      <td>883.0</td>\n",
       "    </tr>\n",
       "    <tr>\n",
       "      <th>575</th>\n",
       "      <td>23000</td>\n",
       "      <td>Yoakum Community Hospital</td>\n",
       "      <td>Yoakum</td>\n",
       "      <td>Lavaca</td>\n",
       "      <td>329.0</td>\n",
       "      <td>253.0</td>\n",
       "      <td>295.0</td>\n",
       "      <td>284.0</td>\n",
       "      <td>1161.0</td>\n",
       "    </tr>\n",
       "  </tbody>\n",
       "</table>\n",
       "<p>576 rows × 9 columns</p>\n",
       "</div>"
      ],
      "text/plain": [
       "     THCIC_ID                             Hospital name  Hospital city  \\\n",
       "0       91001           Abilene Regional Medical Center        Abilene   \n",
       "1      500000                   Hendrick Medical Center        Abilene   \n",
       "2      688000            Hendrick Center- Extended Care        Abilene   \n",
       "3      846000                            Acadia Abilene        Abilene   \n",
       "4      920000            Reliant Rehab Hospital Abilene        Abilene   \n",
       "..        ...                                       ...            ...   \n",
       "571    685000  HEALTHSOUTH Rehab Hospital-Wichita Falls  Wichita Falls   \n",
       "572    709001                        Red River Hospital  Wichita Falls   \n",
       "573    820002    Texas Specialty Hospital-Wichita Falls  Wichita Falls   \n",
       "574    446001         Mother Frances Hospital Winnsboro      Winnsboro   \n",
       "575     23000                 Yoakum Community Hospital         Yoakum   \n",
       "\n",
       "    Hospital county  1q11 Inpatient Discharges  2q11 Inpatient Discharges  \\\n",
       "0            Taylor                     2094.0                     1965.0   \n",
       "1            Taylor                     4248.0                     4060.0   \n",
       "2            Taylor                       58.0                       62.0   \n",
       "3            Taylor                      399.0                      447.0   \n",
       "4            Taylor                      116.0                      126.0   \n",
       "..              ...                        ...                        ...   \n",
       "571         Wichita                      320.0                      331.0   \n",
       "572         Wichita                      433.0                      512.0   \n",
       "573         Wichita                       57.0                       55.0   \n",
       "574            Wood                      244.0                      198.0   \n",
       "575          Lavaca                      329.0                      253.0   \n",
       "\n",
       "     3q11 Inpatient Discharges  4q11 Inpatient Discharges  Total Discharges  \n",
       "0                       1970.0                     2048.0            8077.0  \n",
       "1                       4225.0                     4064.0           16597.0  \n",
       "2                         39.0                       53.0             212.0  \n",
       "3                        439.0                      383.0            1668.0  \n",
       "4                         94.0                      105.0             441.0  \n",
       "..                         ...                        ...               ...  \n",
       "571                      339.0                      334.0            1324.0  \n",
       "572                      459.0                      438.0            1842.0  \n",
       "573                       56.0                       63.0             231.0  \n",
       "574                      241.0                      200.0             883.0  \n",
       "575                      295.0                      284.0            1161.0  \n",
       "\n",
       "[576 rows x 9 columns]"
      ]
     },
     "execution_count": 65,
     "metadata": {},
     "output_type": "execute_result"
    }
   ],
   "source": [
    "df_11"
   ]
  },
  {
   "cell_type": "code",
   "execution_count": 66,
   "metadata": {},
   "outputs": [
    {
     "data": {
      "text/html": [
       "<div>\n",
       "<style scoped>\n",
       "    .dataframe tbody tr th:only-of-type {\n",
       "        vertical-align: middle;\n",
       "    }\n",
       "\n",
       "    .dataframe tbody tr th {\n",
       "        vertical-align: top;\n",
       "    }\n",
       "\n",
       "    .dataframe thead th {\n",
       "        text-align: right;\n",
       "    }\n",
       "</style>\n",
       "<table border=\"1\" class=\"dataframe\">\n",
       "  <thead>\n",
       "    <tr style=\"text-align: right;\">\n",
       "      <th></th>\n",
       "      <th>THCIC_ID</th>\n",
       "      <th>Hospital name</th>\n",
       "      <th>Hospital city</th>\n",
       "      <th>Hospital county</th>\n",
       "      <th>1q11 Inpatient Discharges</th>\n",
       "      <th>2q11 Inpatient Discharges</th>\n",
       "      <th>3q11 Inpatient Discharges</th>\n",
       "      <th>4q11 Inpatient Discharges</th>\n",
       "      <th>Total Discharges</th>\n",
       "    </tr>\n",
       "  </thead>\n",
       "  <tbody>\n",
       "    <tr>\n",
       "      <th>139</th>\n",
       "      <td>474000</td>\n",
       "      <td>Parkland Memorial Hospital</td>\n",
       "      <td>Dallas</td>\n",
       "      <td>Dallas</td>\n",
       "      <td>11532.0</td>\n",
       "      <td>11051.0</td>\n",
       "      <td>12769.0</td>\n",
       "      <td>12209.0</td>\n",
       "      <td>47561.0</td>\n",
       "    </tr>\n",
       "    <tr>\n",
       "      <th>460</th>\n",
       "      <td>154000</td>\n",
       "      <td>Methodist Hospital</td>\n",
       "      <td>San Antonio</td>\n",
       "      <td>Bexar</td>\n",
       "      <td>10209.0</td>\n",
       "      <td>9973.0</td>\n",
       "      <td>10421.0</td>\n",
       "      <td>10140.0</td>\n",
       "      <td>40743.0</td>\n",
       "    </tr>\n",
       "    <tr>\n",
       "      <th>134</th>\n",
       "      <td>331000</td>\n",
       "      <td>Baylor University Medical Center</td>\n",
       "      <td>Dallas</td>\n",
       "      <td>Dallas</td>\n",
       "      <td>10083.0</td>\n",
       "      <td>9905.0</td>\n",
       "      <td>10356.0</td>\n",
       "      <td>9919.0</td>\n",
       "      <td>40263.0</td>\n",
       "    </tr>\n",
       "    <tr>\n",
       "      <th>267</th>\n",
       "      <td>347000</td>\n",
       "      <td>Memorial Hermann Hospital</td>\n",
       "      <td>Houston</td>\n",
       "      <td>Harris</td>\n",
       "      <td>9480.0</td>\n",
       "      <td>9276.0</td>\n",
       "      <td>9618.0</td>\n",
       "      <td>9159.0</td>\n",
       "      <td>37533.0</td>\n",
       "    </tr>\n",
       "    <tr>\n",
       "      <th>179</th>\n",
       "      <td>797100</td>\n",
       "      <td>Doctors Hospital-Renaissance</td>\n",
       "      <td>Edinburg</td>\n",
       "      <td>Hidalgo</td>\n",
       "      <td>9209.0</td>\n",
       "      <td>8912.0</td>\n",
       "      <td>9511.0</td>\n",
       "      <td>9869.0</td>\n",
       "      <td>37501.0</td>\n",
       "    </tr>\n",
       "  </tbody>\n",
       "</table>\n",
       "</div>"
      ],
      "text/plain": [
       "     THCIC_ID                     Hospital name Hospital city Hospital county  \\\n",
       "139    474000        Parkland Memorial Hospital        Dallas          Dallas   \n",
       "460    154000                Methodist Hospital   San Antonio           Bexar   \n",
       "134    331000  Baylor University Medical Center        Dallas          Dallas   \n",
       "267    347000         Memorial Hermann Hospital       Houston          Harris   \n",
       "179    797100      Doctors Hospital-Renaissance      Edinburg         Hidalgo   \n",
       "\n",
       "     1q11 Inpatient Discharges  2q11 Inpatient Discharges  \\\n",
       "139                    11532.0                    11051.0   \n",
       "460                    10209.0                     9973.0   \n",
       "134                    10083.0                     9905.0   \n",
       "267                     9480.0                     9276.0   \n",
       "179                     9209.0                     8912.0   \n",
       "\n",
       "     3q11 Inpatient Discharges  4q11 Inpatient Discharges  Total Discharges  \n",
       "139                    12769.0                    12209.0           47561.0  \n",
       "460                    10421.0                    10140.0           40743.0  \n",
       "134                    10356.0                     9919.0           40263.0  \n",
       "267                     9618.0                     9159.0           37533.0  \n",
       "179                     9511.0                     9869.0           37501.0  "
      ]
     },
     "execution_count": 66,
     "metadata": {},
     "output_type": "execute_result"
    }
   ],
   "source": [
    "df_11.nlargest(5, ['Total Discharges'])"
   ]
  },
  {
   "cell_type": "code",
   "execution_count": null,
   "metadata": {},
   "outputs": [],
   "source": []
  },
  {
   "cell_type": "markdown",
   "metadata": {},
   "source": [
    "Taking a look at the most recent year with full data. Then taking a closer examination at the biggest hospitals in Houston by discharges and the biggest hospitals in Texas by discharges."
   ]
  },
  {
   "cell_type": "code",
   "execution_count": 72,
   "metadata": {},
   "outputs": [],
   "source": [
    "df_20 = pd.read_excel('data/IP_Stat_2020.xlsx')"
   ]
  },
  {
   "cell_type": "code",
   "execution_count": 75,
   "metadata": {},
   "outputs": [],
   "source": [
    "df_20.drop('end of list', inplace=True, axis=1)"
   ]
  },
  {
   "cell_type": "code",
   "execution_count": 77,
   "metadata": {},
   "outputs": [],
   "source": [
    "df_20['Total Discharges'] = df_20['q1'] + df_20['q2'] + df_20['q3'] + df_20['q4']"
   ]
  },
  {
   "cell_type": "code",
   "execution_count": 86,
   "metadata": {
    "scrolled": true
   },
   "outputs": [],
   "source": [
    "df_20.drop(index=df_20.index[722],axis=0, inplace=True)"
   ]
  },
  {
   "cell_type": "code",
   "execution_count": 93,
   "metadata": {},
   "outputs": [],
   "source": [
    "df_20['Total Discharges'] = df_20['Total Discharges'].astype(float)"
   ]
  },
  {
   "cell_type": "code",
   "execution_count": 94,
   "metadata": {
    "scrolled": true
   },
   "outputs": [
    {
     "data": {
      "text/html": [
       "<div>\n",
       "<style scoped>\n",
       "    .dataframe tbody tr th:only-of-type {\n",
       "        vertical-align: middle;\n",
       "    }\n",
       "\n",
       "    .dataframe tbody tr th {\n",
       "        vertical-align: top;\n",
       "    }\n",
       "\n",
       "    .dataframe thead th {\n",
       "        text-align: right;\n",
       "    }\n",
       "</style>\n",
       "<table border=\"1\" class=\"dataframe\">\n",
       "  <thead>\n",
       "    <tr style=\"text-align: right;\">\n",
       "      <th></th>\n",
       "      <th>THCIC_ID</th>\n",
       "      <th>Hospital_name</th>\n",
       "      <th>Hospital_city</th>\n",
       "      <th>COUNTY</th>\n",
       "      <th>q1</th>\n",
       "      <th>q2</th>\n",
       "      <th>q3</th>\n",
       "      <th>q4</th>\n",
       "      <th>Total Discharges</th>\n",
       "    </tr>\n",
       "  </thead>\n",
       "  <tbody>\n",
       "    <tr>\n",
       "      <th>169</th>\n",
       "      <td>474000</td>\n",
       "      <td>Parkland Memorial Hospital</td>\n",
       "      <td>Dallas</td>\n",
       "      <td>113</td>\n",
       "      <td>11458</td>\n",
       "      <td>10116</td>\n",
       "      <td>11596</td>\n",
       "      <td>11189</td>\n",
       "      <td>44359.0</td>\n",
       "    </tr>\n",
       "    <tr>\n",
       "      <th>564</th>\n",
       "      <td>154000</td>\n",
       "      <td>Methodist Hospital</td>\n",
       "      <td>San Antonio</td>\n",
       "      <td>029</td>\n",
       "      <td>11212</td>\n",
       "      <td>9362</td>\n",
       "      <td>10749</td>\n",
       "      <td>11388</td>\n",
       "      <td>42711.0</td>\n",
       "    </tr>\n",
       "    <tr>\n",
       "      <th>318</th>\n",
       "      <td>124000</td>\n",
       "      <td>Houston Methodist Hospital</td>\n",
       "      <td>Houston</td>\n",
       "      <td>201</td>\n",
       "      <td>9660</td>\n",
       "      <td>8211</td>\n",
       "      <td>9619</td>\n",
       "      <td>9675</td>\n",
       "      <td>37165.0</td>\n",
       "    </tr>\n",
       "    <tr>\n",
       "      <th>164</th>\n",
       "      <td>331000</td>\n",
       "      <td>Baylor University Medical Center</td>\n",
       "      <td>Dallas</td>\n",
       "      <td>113</td>\n",
       "      <td>9697</td>\n",
       "      <td>8108</td>\n",
       "      <td>9452</td>\n",
       "      <td>9399</td>\n",
       "      <td>36656.0</td>\n",
       "    </tr>\n",
       "    <tr>\n",
       "      <th>243</th>\n",
       "      <td>235000</td>\n",
       "      <td>Texas Health Harris Methodist Hospital-Fort Worth</td>\n",
       "      <td>Fort Worth</td>\n",
       "      <td>439</td>\n",
       "      <td>9465</td>\n",
       "      <td>7662</td>\n",
       "      <td>8972</td>\n",
       "      <td>9190</td>\n",
       "      <td>35289.0</td>\n",
       "    </tr>\n",
       "  </tbody>\n",
       "</table>\n",
       "</div>"
      ],
      "text/plain": [
       "    THCIC_ID                                      Hospital_name Hospital_city  \\\n",
       "169   474000                         Parkland Memorial Hospital        Dallas   \n",
       "564   154000                                 Methodist Hospital   San Antonio   \n",
       "318   124000                         Houston Methodist Hospital       Houston   \n",
       "164   331000                   Baylor University Medical Center        Dallas   \n",
       "243   235000  Texas Health Harris Methodist Hospital-Fort Worth    Fort Worth   \n",
       "\n",
       "    COUNTY     q1     q2     q3     q4  Total Discharges  \n",
       "169    113  11458  10116  11596  11189           44359.0  \n",
       "564    029  11212   9362  10749  11388           42711.0  \n",
       "318    201   9660   8211   9619   9675           37165.0  \n",
       "164    113   9697   8108   9452   9399           36656.0  \n",
       "243    439   9465   7662   8972   9190           35289.0  "
      ]
     },
     "execution_count": 94,
     "metadata": {},
     "output_type": "execute_result"
    }
   ],
   "source": [
    "df_20.nlargest(5, ['Total Discharges'])"
   ]
  },
  {
   "cell_type": "code",
   "execution_count": 96,
   "metadata": {},
   "outputs": [],
   "source": [
    "houston_hospitals = df_20[df_20['Hospital_city'] == 'Houston']"
   ]
  },
  {
   "cell_type": "code",
   "execution_count": 98,
   "metadata": {},
   "outputs": [
    {
     "data": {
      "text/html": [
       "<div>\n",
       "<style scoped>\n",
       "    .dataframe tbody tr th:only-of-type {\n",
       "        vertical-align: middle;\n",
       "    }\n",
       "\n",
       "    .dataframe tbody tr th {\n",
       "        vertical-align: top;\n",
       "    }\n",
       "\n",
       "    .dataframe thead th {\n",
       "        text-align: right;\n",
       "    }\n",
       "</style>\n",
       "<table border=\"1\" class=\"dataframe\">\n",
       "  <thead>\n",
       "    <tr style=\"text-align: right;\">\n",
       "      <th></th>\n",
       "      <th>THCIC_ID</th>\n",
       "      <th>Hospital_name</th>\n",
       "      <th>Hospital_city</th>\n",
       "      <th>COUNTY</th>\n",
       "      <th>q1</th>\n",
       "      <th>q2</th>\n",
       "      <th>q3</th>\n",
       "      <th>q4</th>\n",
       "      <th>Total Discharges</th>\n",
       "    </tr>\n",
       "  </thead>\n",
       "  <tbody>\n",
       "    <tr>\n",
       "      <th>318</th>\n",
       "      <td>124000</td>\n",
       "      <td>Houston Methodist Hospital</td>\n",
       "      <td>Houston</td>\n",
       "      <td>201</td>\n",
       "      <td>9660</td>\n",
       "      <td>8211</td>\n",
       "      <td>9619</td>\n",
       "      <td>9675</td>\n",
       "      <td>37165.0</td>\n",
       "    </tr>\n",
       "    <tr>\n",
       "      <th>324</th>\n",
       "      <td>347000</td>\n",
       "      <td>Memorial Hermann - Texas Medical Center</td>\n",
       "      <td>Houston</td>\n",
       "      <td>201</td>\n",
       "      <td>8472</td>\n",
       "      <td>7190</td>\n",
       "      <td>8080</td>\n",
       "      <td>8628</td>\n",
       "      <td>32370.0</td>\n",
       "    </tr>\n",
       "    <tr>\n",
       "      <th>310</th>\n",
       "      <td>007000</td>\n",
       "      <td>Womans Hospital-Texas</td>\n",
       "      <td>Houston</td>\n",
       "      <td>201</td>\n",
       "      <td>6184</td>\n",
       "      <td>5906</td>\n",
       "      <td>6507</td>\n",
       "      <td>6399</td>\n",
       "      <td>24996.0</td>\n",
       "    </tr>\n",
       "    <tr>\n",
       "      <th>308</th>\n",
       "      <td>000105</td>\n",
       "      <td>UT MD Anderson Cancer Center</td>\n",
       "      <td>Houston</td>\n",
       "      <td>201</td>\n",
       "      <td>6842</td>\n",
       "      <td>4857</td>\n",
       "      <td>5615</td>\n",
       "      <td>6236</td>\n",
       "      <td>23550.0</td>\n",
       "    </tr>\n",
       "    <tr>\n",
       "      <th>322</th>\n",
       "      <td>302000</td>\n",
       "      <td>Memorial Hermann Memorial City Medical Center</td>\n",
       "      <td>Houston</td>\n",
       "      <td>201</td>\n",
       "      <td>6129</td>\n",
       "      <td>5036</td>\n",
       "      <td>5889</td>\n",
       "      <td>5987</td>\n",
       "      <td>23041.0</td>\n",
       "    </tr>\n",
       "  </tbody>\n",
       "</table>\n",
       "</div>"
      ],
      "text/plain": [
       "    THCIC_ID                                  Hospital_name Hospital_city  \\\n",
       "318   124000                     Houston Methodist Hospital       Houston   \n",
       "324   347000        Memorial Hermann - Texas Medical Center       Houston   \n",
       "310   007000                          Womans Hospital-Texas       Houston   \n",
       "308   000105                   UT MD Anderson Cancer Center       Houston   \n",
       "322   302000  Memorial Hermann Memorial City Medical Center       Houston   \n",
       "\n",
       "    COUNTY    q1    q2    q3    q4  Total Discharges  \n",
       "318    201  9660  8211  9619  9675           37165.0  \n",
       "324    201  8472  7190  8080  8628           32370.0  \n",
       "310    201  6184  5906  6507  6399           24996.0  \n",
       "308    201  6842  4857  5615  6236           23550.0  \n",
       "322    201  6129  5036  5889  5987           23041.0  "
      ]
     },
     "execution_count": 98,
     "metadata": {},
     "output_type": "execute_result"
    }
   ],
   "source": [
    "houston_hospitals.nlargest(5, ['Total Discharges'])"
   ]
  },
  {
   "cell_type": "code",
   "execution_count": 101,
   "metadata": {},
   "outputs": [
    {
     "data": {
      "text/plain": [
       "53"
      ]
     },
     "execution_count": 101,
     "metadata": {},
     "output_type": "execute_result"
    }
   ],
   "source": [
    "len(houston_hospitals)"
   ]
  },
  {
   "cell_type": "markdown",
   "metadata": {},
   "source": [
    "There are 53 hospitals in Houston, TX as of 2020. This was the last year that Texas Public Use has provided full annual numbers for. The largest hospitals in Houston are Houston Methodist, Memorial Hermann - Texas Medical Center, Womans Hospital, UT MD Anderson Cancer Center, and Memorial Hermann - Memorial City Medical Center. The smallest hospitals in Houston by discharges include HealthBridge Childrens, United Memorial Medical Center North, Altus, AD Hospital East, and Cobalt Rehabilitation Houston Heights."
   ]
  },
  {
   "cell_type": "code",
   "execution_count": 104,
   "metadata": {},
   "outputs": [
    {
     "data": {
      "text/html": [
       "<div>\n",
       "<style scoped>\n",
       "    .dataframe tbody tr th:only-of-type {\n",
       "        vertical-align: middle;\n",
       "    }\n",
       "\n",
       "    .dataframe tbody tr th {\n",
       "        vertical-align: top;\n",
       "    }\n",
       "\n",
       "    .dataframe thead th {\n",
       "        text-align: right;\n",
       "    }\n",
       "</style>\n",
       "<table border=\"1\" class=\"dataframe\">\n",
       "  <thead>\n",
       "    <tr style=\"text-align: right;\">\n",
       "      <th></th>\n",
       "      <th>THCIC_ID</th>\n",
       "      <th>Hospital_name</th>\n",
       "      <th>Hospital_city</th>\n",
       "      <th>COUNTY</th>\n",
       "      <th>q1</th>\n",
       "      <th>q2</th>\n",
       "      <th>q3</th>\n",
       "      <th>q4</th>\n",
       "      <th>Total Discharges</th>\n",
       "    </tr>\n",
       "  </thead>\n",
       "  <tbody>\n",
       "    <tr>\n",
       "      <th>334</th>\n",
       "      <td>712500</td>\n",
       "      <td>HealthBridge Childrens Hospital-Houston</td>\n",
       "      <td>Houston</td>\n",
       "      <td>201</td>\n",
       "      <td>14</td>\n",
       "      <td>19</td>\n",
       "      <td>24</td>\n",
       "      <td>24</td>\n",
       "      <td>81.0</td>\n",
       "    </tr>\n",
       "    <tr>\n",
       "      <th>358</th>\n",
       "      <td>975402</td>\n",
       "      <td>United Memorial Medical Center North Hospital</td>\n",
       "      <td>Houston</td>\n",
       "      <td>201</td>\n",
       "      <td>32</td>\n",
       "      <td>8</td>\n",
       "      <td>64</td>\n",
       "      <td>22</td>\n",
       "      <td>126.0</td>\n",
       "    </tr>\n",
       "    <tr>\n",
       "      <th>354</th>\n",
       "      <td>975250</td>\n",
       "      <td>Altus Houston Hospital, Celestial Hospital, Od...</td>\n",
       "      <td>Houston</td>\n",
       "      <td>201</td>\n",
       "      <td>52</td>\n",
       "      <td>40</td>\n",
       "      <td>72</td>\n",
       "      <td>75</td>\n",
       "      <td>239.0</td>\n",
       "    </tr>\n",
       "    <tr>\n",
       "      <th>350</th>\n",
       "      <td>975130</td>\n",
       "      <td>AD Hospital East</td>\n",
       "      <td>Houston</td>\n",
       "      <td>201</td>\n",
       "      <td>44</td>\n",
       "      <td>136</td>\n",
       "      <td>30</td>\n",
       "      <td>41</td>\n",
       "      <td>251.0</td>\n",
       "    </tr>\n",
       "    <tr>\n",
       "      <th>357</th>\n",
       "      <td>975397</td>\n",
       "      <td>Cobalt Rehabilitation Houston Heights</td>\n",
       "      <td>Houston</td>\n",
       "      <td>201</td>\n",
       "      <td>60</td>\n",
       "      <td>89</td>\n",
       "      <td>58</td>\n",
       "      <td>81</td>\n",
       "      <td>288.0</td>\n",
       "    </tr>\n",
       "  </tbody>\n",
       "</table>\n",
       "</div>"
      ],
      "text/plain": [
       "    THCIC_ID                                      Hospital_name Hospital_city  \\\n",
       "334   712500            HealthBridge Childrens Hospital-Houston       Houston   \n",
       "358   975402      United Memorial Medical Center North Hospital       Houston   \n",
       "354   975250  Altus Houston Hospital, Celestial Hospital, Od...       Houston   \n",
       "350   975130                                   AD Hospital East       Houston   \n",
       "357   975397              Cobalt Rehabilitation Houston Heights       Houston   \n",
       "\n",
       "    COUNTY  q1   q2  q3  q4  Total Discharges  \n",
       "334    201  14   19  24  24              81.0  \n",
       "358    201  32    8  64  22             126.0  \n",
       "354    201  52   40  72  75             239.0  \n",
       "350    201  44  136  30  41             251.0  \n",
       "357    201  60   89  58  81             288.0  "
      ]
     },
     "execution_count": 104,
     "metadata": {},
     "output_type": "execute_result"
    }
   ],
   "source": [
    "houston_hospitals.nsmallest(5, ['Total Discharges'])"
   ]
  },
  {
   "cell_type": "code",
   "execution_count": null,
   "metadata": {},
   "outputs": [],
   "source": []
  }
 ],
 "metadata": {
  "kernelspec": {
   "display_name": "Python (learn-env)",
   "language": "python",
   "name": "learn-env"
  },
  "language_info": {
   "codemirror_mode": {
    "name": "ipython",
    "version": 3
   },
   "file_extension": ".py",
   "mimetype": "text/x-python",
   "name": "python",
   "nbconvert_exporter": "python",
   "pygments_lexer": "ipython3",
   "version": "3.8.5"
  }
 },
 "nbformat": 4,
 "nbformat_minor": 4
}
